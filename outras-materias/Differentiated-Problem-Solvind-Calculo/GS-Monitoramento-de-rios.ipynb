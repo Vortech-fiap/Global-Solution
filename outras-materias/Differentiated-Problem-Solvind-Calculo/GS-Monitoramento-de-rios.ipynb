{
 "cells": [
  {
   "cell_type": "markdown",
   "metadata": {},
   "source": [
    "<div style=\"text-align: center;\">\n",
    "  <img src=\"flood-guard.jpeg\" alt=\"Gráfico de alerta de enchentes\" />\n",
    "</div>\n"
   ]
  },
  {
   "cell_type": "markdown",
   "metadata": {
    "id": "YMkeoKA9ljHr"
   },
   "source": [
    "<h1 style=\"text-align: center;\"><strong>Differentiated Problem Solving</strong></h1>\n",
    "<h2 style=\"text-align: center;\"><strong>Global Solution</strong></h2>\n",
    "<h3 style=\"text-align: center;\"><strong>VORTECH</strong></h3>\n",
    "<h4 style=\"text-align: center;\"><strong>FIAP - 2025</strong></h4>\n",
    "<br>\n",
    "<br>"
   ]
  },
  {
   "cell_type": "markdown",
   "metadata": {},
   "source": []
  },
  {
   "cell_type": "markdown",
   "metadata": {},
   "source": [
    "# **Monitoramento do Rio Tietê - SP**"
   ]
  },
  {
   "cell_type": "markdown",
   "metadata": {},
   "source": [
    "Neste projeto de modelagem matemática, escolhemos monitorar o rio Tietê, um dos principais rios do estado de São Paulo, conhecido por seu histórico de enchentes em períodos de chuva intensa.\n",
    "\n",
    "Os dados utilizados foram coletados do sensor 2 - RIO TIETÊ - ESTALEIRO, disponível no site oficial do DAEE:\n",
    "📎 https://cth.daee.sp.gov.br/sibh/diagrama_alto_tiete\n",
    "\n",
    "Foram analisados os níveis do rio durante 11 dias consecutivos de chuva, de 30/01 a 09/02. A base adotada para calcular o nível relativo foi o valor mínimo registrado no período (735.521 m). Subtraímos esse valor de todos os demais para facilitar a interpretação e visualização do comportamento da elevação do rio.\n",
    "\n",
    "A tabela abaixo resume os dados:\n",
    "\n",
    "| Índice | Dia    | Valor absoluto (m) | Nível relativo (m) |\n",
    "|--------|--------|--------------------|--------------------|\n",
    "| 0      | 30/01  | 735.839            | 0.318              |\n",
    "| 1      | 31/01  | 736.149            | 0.628              |\n",
    "| 2      | 01/02  | 736.179            | 0.658              |\n",
    "| 3      | 02/02  | 736.246            | 0.725              |\n",
    "| 4      | 03/02  | 736.145            | 0.624              |\n",
    "| 5      | 04/02  | 736.229            | 0.708              |\n",
    "| 6      | 05/02  | 736.132            | 0.611              |\n",
    "| 7      | 06/02  | 736.300            | 0.779              |\n",
    "| 8      | 07/02  | 736.178            | 0.657              |\n",
    "| 9      | 08/02  | 735.771            | 0.250              |\n",
    "| 10     | 09/02  | 735.521            | 0.000              |\n",
    "\n",
    "\n",
    "\n",
    "### **Cálculo do Nível Relativo**\n",
    "\n",
    "Para facilitar a interpretação do comportamento do nível do rio, utilizamos o conceito de **nível relativo**, que representa a variação da altura da água em relação ao menor valor observado no período analisado. Isso permite visualizar melhor os aumentos e reduções no nível do rio, ignorando a altitude absoluta do sensor.\n",
    "\n",
    "A fórmula usada foi:\n",
    "\n",
    "$$\n",
    "\\text{Nível relativo (m)} = \\text{Valor absoluto} - \\text{Valor mínimo do período}\n",
    "$$\n",
    "\n",
    "No nosso caso, o menor valor registrado foi **735{,}521 m** (em 09/02). Subtraímos esse valor de todos os demais valores absolutos coletados entre os dias 30/01 e 09/02.\n",
    "\n",
    "**Exemplo:**  \n",
    "Para o dia 30/01, com valor absoluto de **735{,}839 m**:\n",
    "\n",
    "$$\n",
    "735{,}839 - 735{,}521 = 0{,}318 \\text{ m}\n",
    "$$\n",
    "\n",
    "Esse processo foi repetido para todos os dias, gerando a tabela de nível relativo apresentada.\n",
    "\n",
    "\n"
   ]
  },
  {
   "cell_type": "markdown",
   "metadata": {},
   "source": [
    "## 🔵 **1. Domínio e Imagem da Função**\n",
    "\n",
    "Considerando a função polinomial aproximada de segundo grau, obtida no item 4 do trabalho:\n",
    "\n",
    "$$\n",
    "f(x) = -0.0215571x^2 + 0.2313217x + 0.1453333\n",
    "$$\n",
    "\n",
    "- **Domínio:**\n",
    "\n",
    "O domínio é o conjunto dos valores de x para os quais a função está definida e que fazem sentido no contexto do problema. Como  x  representa o número do dia, contando a partir do dia 30/01, e temos dados de 11 dias consecutivos, o domínio é:\n",
    "\n",
    "$$\n",
    "x \\in [0, 10]\n",
    "$$\n",
    "\n",
    "Isso significa que o domínio inclui 11 valores inteiros:  \n",
    "0, 1, 2, 3, 4, 5, 6, 7, 8, 9 e 10, correspondendo aos dias de 30/01 (0) até 09/02 (10).\n",
    "\n",
    "- **Imagem:**\n",
    "\n",
    "A imagem é o conjunto dos valores possíveis de f(x)  quando  x  varia no domínio definido. Como  f é uma função polinomial de segundo grau com concavidade para baixo, a imagem é um intervalo fechado que vai do valor mínimo ao máximo da função neste domínio.\n",
    "\n",
    "Calculando o valor da função no vértice, que é o ponto de máximo, temos:\n",
    "\n",
    "$$\n",
    "f(5{,}37) = -0.0215571 \\cdot (5{,}37)^2 + 0.2313217 \\cdot 5{,}37 + 0.1453333 \\approx 0{,}77 \\text{ metros}\n",
    "$$\n",
    "\n",
    "Os valores mínimos ocorrem nas extremidades do domínio, sendo o valor mínimo real 0 metros, correspondente ao nível relativo no dia 09/02.\n",
    "\n",
    "A imagem da função corresponde aos valores do nível relativo do rio no período, que variam entre o menor valor (0 metros, no dia 09/02) e o maior valor registrado (aproximadamente 0,77 metros, no dia 06/02):\n",
    "\n",
    "$$\n",
    "f(x) \\in [0, 0.779]\n",
    "$$\n",
    "\n",
    "Essa função e seu gráfico estão detalhados no **item 4 do trabalho**.\n",
    "\n"
   ]
  },
  {
   "cell_type": "markdown",
   "metadata": {},
   "source": [
    "## 🔵 **2. O ponto de nível máximo alcançado pelo rio no período de 30/01 à 09/02**\n",
    "\n",
    " \n",
    "Utilizamos a função polinomial de segundo grau ajustada aos dados do nível relativo do rio Tietê:\n",
    "\n",
    "$$\n",
    "f(x) = -0.0215571x^2 + 0.2313217x + 0.1453333\n",
    "$$\n",
    "\n",
    "onde $x$ representa o número do dia, começando em 0 para o dia 30/01.\n",
    "\n",
    "Como o coeficiente do termo $x^2$ é negativo ($a = -0.0215571$), a parábola tem concavidade para baixo, indicando que o vértice da função representa um ponto de máximo.\n",
    "\n",
    "Para encontrar o dia em que o nível máximo foi atingido, aplicamos a fórmula do vértice da parábola:\n",
    "\n",
    "$$\n",
    "x_{\\text{máximo}} = -\\frac{b}{2a}\n",
    "$$\n",
    "\n",
    "Substituindo os valores dos coeficientes:\n",
    "\n",
    "$$\n",
    "x_{\\text{máximo}} = -\\frac{0.2313217}{2 \\cdot (-0.0215571)} = \\frac{0.2313217}{0.0431142} \\approx 5{,}37\n",
    "$$\n",
    "\n",
    "Isso indica que o nível máximo do rio ocorreu aproximadamente no 5,37º dia, ou seja, entre o 5º e o 6º dia do período analisado (entre 04/02 e 05/02).\n",
    "\n",
    "Para encontrar o valor do nível máximo, substituímos $x = 5{,}37$ na função:\n",
    "\n",
    "$$\n",
    "f(5{,}37) = -0.0215571 \\cdot (5{,}37)^2 + 0.2313217 \\cdot 5{,}37 + 0.1453333 \\approx 0{,}77 \\text{ metros}\n",
    "$$\n",
    "\n",
    "Portanto, o nível máximo relativo do rio Tietê no período analisado foi de aproximadamente **0,77 metros**.\n",
    "\n",
    "\n"
   ]
  },
  {
   "cell_type": "markdown",
   "metadata": {},
   "source": [
    "## 🔵 **3. Risco de transbordamento**\n",
    "\n",
    "\n",
    "Com base nos dados coletados do sensor **RIO TIETÊ - ESTALEIRO** no site oficial do DAEE ([link](https://cth.daee.sp.gov.br/sibh/diagrama_alto_tiete)), o **nível de transbordamento do rio Tietê** nessa estação é de:\n",
    "\n",
    "$$\n",
    "\\text{Nível de transbordamento} = 736{,}1 \\text{ m}\n",
    "$$\n",
    "\n",
    "Como utilizamos o conceito de **nível relativo**, onde:\n",
    "\n",
    "$$\n",
    "\\text{Nível relativo (m)} = \\text{Valor absoluto} - 735{,}521\n",
    "$$\n",
    "\n",
    "Podemos calcular o **nível relativo de transbordamento**:\n",
    "\n",
    "$$\n",
    "736{,}1 - 735{,}521 = 0{,}579 \\text{ m}\n",
    "$$\n",
    "\n",
    "Portanto, qualquer dia em que o nível relativo for **maior que 0,579 m** indica **risco de transbordamento**.\n",
    "\n",
    "#### Dias com risco de transbordamento:\n",
    "\n",
    "| Dia     | Nível Relativo (m) |\n",
    "|---------|--------------------|\n",
    "| 31/01   | 0.628              |\n",
    "| 01/02   | 0.658              |\n",
    "| 02/02   | 0.725              |\n",
    "| 03/02   | 0.624              |\n",
    "| 04/02   | 0.708              |\n",
    "| 06/02   | 0.779              |\n",
    "| 07/02   | 0.657              |\n",
    "\n",
    "Nestes dias, o rio atingiu níveis que indicam risco de transbordamento, sendo necessário monitoramento preventivo e ações de alerta.\n"
   ]
  },
  {
   "cell_type": "markdown",
   "metadata": {},
   "source": [
    "## 🔵 **4. Gráfico da Função**\n",
    "\n",
    "\n",
    "A seguir, apresentamos o gráfico da função polinomial de segundo grau ajustada aos dados de nível relativo do Rio Tietê, no período de 30/01 a 09/02.\n",
    "\n",
    "- A **curva azul** representa a função ajustada, que modela o comportamento do nível da água ao longo dos dias.\n",
    "- Os **pontos azuis** correspondem a dias em que o nível do rio permaneceu abaixo do limite de transbordamento (736,1 m ou 0,579 m em nível relativo).\n",
    "- Os **pontos vermelhos** indicam os dias com **risco de transbordamento**, ou seja, quando o nível relativo ultrapassou 0,579 m.\n",
    "\n",
    "\n",
    "Essa visualização facilita a identificação de tendências de risco e a análise do comportamento do rio durante o período de chuvas.\n",
    "\n"
   ]
  },
  {
   "cell_type": "markdown",
   "metadata": {},
   "source": [
    "### GeoGebra\n",
    "\n",
    "![Gráfico do nível do rio Tietê](grafico-geogebra.jpg)"
   ]
  },
  {
   "cell_type": "markdown",
   "metadata": {},
   "source": [
    "### Python"
   ]
  },
  {
   "cell_type": "code",
   "execution_count": 1,
   "metadata": {},
   "outputs": [
    {
     "data": {
      "image/png": "[encoded data removed]",
      "text/plain": [
       "<Figure size 1000x600 with 1 Axes>"
      ]
     },
     "metadata": {},
     "output_type": "display_data"
    },
    {
     "name": "stdout",
     "output_type": "stream",
     "text": [
      "Função polinomial aproximada (grau 2):\n",
      "          2\n",
      "-0.02156 x + 0.2313 x + 0.1453\n"
     ]
    }
   ],
   "source": [
    "import numpy as np\n",
    "import matplotlib.pyplot as plt\n",
    "\n",
    "# Dados\n",
    "dias = np.arange(1, 12)  # Dias de 0 a 10\n",
    "niveis_relativos = [0.318, 0.628, 0.658, 0.725, 0.624, 0.708, 0.611, 0.779, 0.657, 0.250, 0.0]\n",
    "\n",
    "# Ajuste polinomial de grau 2\n",
    "coeficientes = np.polyfit(dias, niveis_relativos, 2)\n",
    "polinomio = np.poly1d(coeficientes)\n",
    "\n",
    "# Ponto de nível máximo (vértice da parábola)\n",
    "a, b = coeficientes[0], coeficientes[1]\n",
    "x_max = -b / (2 * a)\n",
    "y_max = polinomio(x_max)\n",
    "\n",
    "# Geração de valores para a curva\n",
    "x_vals = np.linspace(0, 10, 200)\n",
    "y_vals = polinomio(x_vals)\n",
    "\n",
    "# Determina cor dos pontos (vermelho se risco de transbordamento > 0.579 m)\n",
    "cores = ['red' if y > 0.579 else 'blue' for y in niveis_relativos]\n",
    "\n",
    "# Gráfico\n",
    "plt.figure(figsize=(10, 6))\n",
    "plt.plot(x_vals, y_vals, '-', label='Ajuste polinomial (grau 2)', color='navy')\n",
    "plt.scatter(dias, niveis_relativos, c=cores, label='Dados por dia')\n",
    "plt.scatter(x_max, y_max, color='red', marker='X', s=100, label='Nível máximo')\n",
    "\n",
    "plt.title('Nível Relativo do Rio Tietê (30/01 a 09/02)')\n",
    "plt.xlabel('Dia')\n",
    "plt.ylabel('Nível relativo (m)')\n",
    "plt.grid(True)\n",
    "plt.legend()\n",
    "plt.show()\n",
    "\n",
    "# Exibe a função gerada\n",
    "print(\"Função polinomial aproximada (grau 2):\")\n",
    "print(polinomio)\n"
   ]
  },
  {
   "cell_type": "markdown",
   "metadata": {},
   "source": [
    "## 🔵 **5. Protótipo**\n",
    "\n",
    "Pensando em auxiliar a identificação dos outros dias e o risco de alagamento, desenvolvemos um protótipo para verificação do dia **10/02**.\n",
    "\n",
    "Você poderá inserir um valor e será exibido:\n",
    "- Se há risco de enchente;\n",
    "- O valor adicionado no gráfico.\n",
    "\n",
    "### ▶️ Executar protótipo\n",
    "\n",
    "Para rodar o protótipo localmente, execute o seguinte comando no terminal:\n",
    "\n",
    "```bash\n",
    "python prototipo.py\n",
    "\n"
   ]
  },
  {
   "cell_type": "markdown",
   "metadata": {},
   "source": [
    "#\n",
    "---\n",
    "\n",
    "© 2025 VORTECH. Todos os direitos reservados.  \n"
   ]
  },
  {
   "cell_type": "code",
   "execution_count": null,
   "metadata": {},
   "outputs": [],
   "source": []
  }
 ],
 "metadata": {
  "colab": {
   "authorship_tag": "ABX9TyMs7yoLAPkkMgsJLzaYI+z2",
   "provenance": [],
   "toc_visible": true
  },
  "kernelspec": {
   "display_name": "Python 3",
   "language": "python",
   "name": "python3"
  },
  "language_info": {
   "codemirror_mode": {
    "name": "ipython",
    "version": 3
   },
   "file_extension": ".py",
   "mimetype": "text/x-python",
   "name": "python",
   "nbconvert_exporter": "python",
   "pygments_lexer": "ipython3",
   "version": "3.13.3"
  }
 },
 "nbformat": 4,
 "nbformat_minor": 4
}
